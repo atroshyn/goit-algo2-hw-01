{
  "nbformat": 4,
  "nbformat_minor": 0,
  "metadata": {
    "colab": {
      "provenance": []
    },
    "kernelspec": {
      "name": "python3",
      "display_name": "Python 3"
    },
    "language_info": {
      "name": "python"
    }
  },
  "cells": [
    {
      "cell_type": "markdown",
      "source": [
        "## Завдання 1 (обов’язкове). Пошук максимального та мінімального елементів\n",
        "\n",
        "\n",
        "\n",
        "Реалізуйте функцію, яка знаходить максимальний та мінімальний елементи в масиві, використовуючи метод «розділяй і володарюй».\n",
        "\n",
        "\n",
        "\n",
        "### Критерії прийняття завдання\n",
        "\n",
        "\n",
        "- Функція приймає масив чисел довільної довжини.\n",
        "- Використано рекурсивний підхід.\n",
        "- Повертається кортеж значень (мінімум, максимум).\n",
        "- Складність алгоритму — O(n).\n",
        "\n"
      ],
      "metadata": {
        "id": "fHzC0nBCRqf9"
      }
    },
    {
      "cell_type": "code",
      "source": [
        "def min_max_finder(array):\n",
        "    # Дробимо до мінімального списку, і повертаємо єдине значення цього списку\n",
        "    if len(array) <= 1:\n",
        "        return (array[0], array[0])\n",
        "\n",
        "    mid = len(array) // 2\n",
        "    left = min_max_finder(array[:mid])\n",
        "    right = min_max_finder(array[mid:])\n",
        "\n",
        "    return mm_merge(left, right)\n",
        "\n",
        "def mm_merge(left, right):\n",
        "    # На етапі обʼєднання робимо простий if з двома елементами\n",
        "    min = left[0] if left[0] < right[0] else right[0]\n",
        "    max = left[1] if left[1] > right[1] else right[1]\n",
        "    return (min, max)\n",
        "\n",
        "arr = [15, -1, 44, 35, -15, 2, 45, 99, 11, 9, 1]\n",
        "min_max = min_max_finder(arr)\n",
        "print(min_max)"
      ],
      "metadata": {
        "colab": {
          "base_uri": "https://localhost:8080/"
        },
        "id": "ZMF1ZvmnRNaT",
        "outputId": "4d483afd-023e-42db-8f37-c96cfd074876"
      },
      "execution_count": 10,
      "outputs": [
        {
          "output_type": "stream",
          "name": "stdout",
          "text": [
            "(-15, 99)\n"
          ]
        }
      ]
    },
    {
      "cell_type": "markdown",
      "source": [
        "## Завдання 2* (опціональне). Пошук k-го найменшого елемента\n",
        "\n",
        "\n",
        "Реалізуйте алгоритм пошуку k-го найменшого елемента в несортованому масиві, використовуючи принцип Quick Select.\n",
        "\n",
        "\n",
        "### Умови виконання\n",
        "\n",
        "- Функція має приймати масив чисел та число k.\n",
        "- Необхідно використати підхід з вибором опорного елемента pivot .\n",
        "- Масив не має бути повністю відсортований.\n",
        "- Очікувана складність в середньому випадку має складати O(n).\n",
        "\n",
        "\n",
        "> 📌 Примітка: Quick Select є прикладом методу «розділяй і володарюй», але в нашому випадку етап об'єднання (Combine) не потребує додаткової роботи. Коли знаходимо потрібний елемент, просто повертаємо його.\n",
        "\n"
      ],
      "metadata": {
        "id": "EB-yXfrFRzAX"
      }
    },
    {
      "cell_type": "code",
      "source": [
        "def finder_by_quick_select(array, k):\n",
        "    if k < 1:\n",
        "        raise Exception(\"Invalid position of element\")\n",
        "    if len(array) < k:\n",
        "        raise Exception(\"List has less element than k\")\n",
        "\n",
        "    pivot = array[0]\n",
        "\n",
        "    less = [el for el in array if el < pivot]\n",
        "    more = [el for el in array if el > pivot]\n",
        "    # print(pivot, less, more)\n",
        "\n",
        "    if len(less) + 1 == k:\n",
        "        element = pivot\n",
        "    elif len(less) >= k:\n",
        "        element = finder_by_quick_select(less, k)\n",
        "    elif len(less) + 1 < k:\n",
        "        k = k - (len(less) + 1)\n",
        "        element = finder_by_quick_select(more, k)\n",
        "\n",
        "    return element\n",
        "\n",
        "arr = [15, -1, 44, 35, -15, 2, 45, 99, 11, 9, 1]\n",
        "# arr = [30]\n",
        "element = finder_by_quick_select(arr, 3)\n",
        "print(element)"
      ],
      "metadata": {
        "colab": {
          "base_uri": "https://localhost:8080/"
        },
        "id": "_eL9kcqaRfcG",
        "outputId": "75c26484-ffb9-4014-8eae-5ba1833e0e36"
      },
      "execution_count": 11,
      "outputs": [
        {
          "output_type": "stream",
          "name": "stdout",
          "text": [
            "1\n"
          ]
        }
      ]
    }
  ]
}